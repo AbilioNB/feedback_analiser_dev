{
 "cells": [
  {
   "cell_type": "code",
   "execution_count": 55,
   "outputs": [
    {
     "data": {
      "text/plain": "   unique_id                                    Description.New  FP  FS  FT  \\\n0         20   Ter cuidado com as cpias fieis da internet. P...   1   0   0   \n\n   FR  GP1  GP2  GP3  GP4  GP5  GP6  GP7      COURSE  \n0   0    0    0    0    0    0    0    0  literature  ",
      "text/html": "<div>\n<style scoped>\n    .dataframe tbody tr th:only-of-type {\n        vertical-align: middle;\n    }\n\n    .dataframe tbody tr th {\n        vertical-align: top;\n    }\n\n    .dataframe thead th {\n        text-align: right;\n    }\n</style>\n<table border=\"1\" class=\"dataframe\">\n  <thead>\n    <tr style=\"text-align: right;\">\n      <th></th>\n      <th>unique_id</th>\n      <th>Description.New</th>\n      <th>FP</th>\n      <th>FS</th>\n      <th>FT</th>\n      <th>FR</th>\n      <th>GP1</th>\n      <th>GP2</th>\n      <th>GP3</th>\n      <th>GP4</th>\n      <th>GP5</th>\n      <th>GP6</th>\n      <th>GP7</th>\n      <th>COURSE</th>\n    </tr>\n  </thead>\n  <tbody>\n    <tr>\n      <th>0</th>\n      <td>20</td>\n      <td>Ter cuidado com as cpias fieis da internet. P...</td>\n      <td>1</td>\n      <td>0</td>\n      <td>0</td>\n      <td>0</td>\n      <td>0</td>\n      <td>0</td>\n      <td>0</td>\n      <td>0</td>\n      <td>0</td>\n      <td>0</td>\n      <td>0</td>\n      <td>literature</td>\n    </tr>\n  </tbody>\n</table>\n</div>"
     },
     "metadata": {},
     "output_type": "execute_result",
     "execution_count": 55
    }
   ],
   "source": [
    "import pandas as pd\n",
    "from datetime import date\n",
    "df = pd.read_csv('feedbackDataset - cópia.csv',sep =',')\n",
    "df.head(1)\n",
    "\n"
   ],
   "metadata": {
    "collapsed": false,
    "pycharm": {
     "name": "#%%\n",
     "is_executing": false
    }
   }
  },
  {
   "cell_type": "code",
   "execution_count": 41,
   "outputs": [],
   "source": [
    "dic_elementos = pd.DataFrame.to_dict(df, orient='index')\n",
    "#Foi criado um dicionario com um INTt como chave e uma linha da tabela como valor"
   ],
   "metadata": {
    "collapsed": false,
    "pycharm": {
     "name": "#%%\n",
     "is_executing": false
    }
   }
  },
  {
   "cell_type": "code",
   "execution_count": 42,
   "outputs": [
    {
     "name": "stdout",
     "text": [
      "{'unique_id': 23, 'Description.New': ' Ler outros textos sobre o assunto para lher dar suporte necessrio para construo de textos mais concisos. ', 'FP': 0, 'FS': 0, 'FT': 1, 'FR': 0, 'GP1': 0, 'GP2': 0, 'GP3': 0, 'GP4': 0, 'GP5': 0, 'GP6': 1, 'GP7': 0, 'COURSE': 'literature'}\n"
     ],
     "output_type": "stream"
    }
   ],
   "source": [
    "print(dic_elementos[2])"
   ],
   "metadata": {
    "collapsed": false,
    "pycharm": {
     "name": "#%%\n",
     "is_executing": false
    }
   }
  },
  {
   "cell_type": "code",
   "execution_count": 53,
   "outputs": [],
   "source": [
    "\n",
    "#Criar contadores de cada coluna\n",
    "iterator_dic = 0\n",
    "iterator_list = 0\n",
    "\n",
    "#Criando uma lista com os valores das colunas \n",
    "types_feedback = ['FP', 'FS', 'FT', 'FR', 'GP1', 'GP2','GP3', 'GP4', 'GP5', 'GP6', 'GP7']\n",
    "#Criando uma lista com os contadores de cada tipo de feedback\n",
    "valeus_feedback =[0,0,0,0,0,0,0,0,0,0,0]\n",
    "#Criando os contadores de 0,1,2,3,4+\n",
    "especial_conts = [0,0,0,0,0]\n",
    "#Contador para saber o numero de pontos do feedback\n",
    "count_feedback = 0 \n",
    "for feedback in dic_elementos:\n",
    "    #print(type(dic_elementos[iterator_dic]['FP']))\n",
    "    for tipo in types_feedback:\n",
    "         #Buscando o valor de cada coluna\n",
    "         valeus_feedback[iterator_list] += dic_elementos[iterator_dic][tipo]\n",
    "         count_feedback += dic_elementos[iterator_dic][tipo]\n",
    "         iterator_list +=1   \n",
    "    #buscar saber em qual a pontuação total do fcount_feedback\n",
    "    if count_feedback == 0:\n",
    "        especial_conts[0] += 1\n",
    "    elif count_feedback == 1:\n",
    "        especial_conts[1] += 1\n",
    "    elif count_feedback == 2:\n",
    "        especial_conts[2] += 1\n",
    "    elif count_feedback == 3:\n",
    "        especial_conts[3] += 1\n",
    "    else:\n",
    "        especial_conts[4] += 1\n",
    "    iterator_dic += 1\n",
    "    iterator_list = 0 \n",
    "    count_feedback = 0\n",
    "\n",
    " "
   ],
   "metadata": {
    "collapsed": false,
    "pycharm": {
     "name": "#%%\n",
     "is_executing": false
    }
   }
  },
  {
   "cell_type": "markdown",
   "source": [
    "## Agora vamos criar um dicionario com todas as informações:\n",
    "\n",
    "<ol>\n",
    "<li>Quantidade de feedacaks que possuim cada boa pratica</li>\n",
    "<li>Feedbacks com 0 boas praticas</li>\n",
    "<li>Feedbacks com 1 boas praticas</li>\n",
    "<li>Feedbacks com 2 boas praticas</li>\n",
    "<li>Feedbacks com 3 boas praticas</li>\n",
    "<li>Feedbacks com 4+ boas praticas</li>\n",
    "<li>Total de elemtentos</li>\n",
    "<li>Data</li>\n",
    "<li>Turma</li>\n",
    "</ol>  \n",
    "\n"
   ],
   "metadata": {
    "collapsed": false,
    "pycharm": {
     "name": "#%% md\n"
    }
   }
  },
  {
   "cell_type": "code",
   "execution_count": 78,
   "outputs": [],
   "source": [
    " #Montar o dicionario \n",
    "feedback_dict = {}\n",
    "#Adicionar a quantidade \n",
    "feedback_dict['amount_feedbacks'] = iterator_dic\n",
    "iterator_salve = 0 \n",
    "for categoria in types_feedback:\n",
    "    feedback_dict[categoria] = valeus_feedback[iterator_salve]\n",
    "    iterator_salve +=1\n",
    "feedback_dict[\"counts_0_GP\"] = especial_conts[0]\n",
    "feedback_dict[\"counts_1_GP\"] = especial_conts[1]\n",
    "feedback_dict[\"counts_2_GP\"] = especial_conts[2]\n",
    "feedback_dict[\"counts_3_GP\"] = especial_conts[3]\n",
    "feedback_dict[\"counts_4_GP\"] = especial_conts[4]\n",
    "feedback_dict['class'] = 'class_teste'\n",
    "data = date.today()\n",
    "data_text = data.strftime('%d/%m/%Y')\n",
    "feedback_dict['date_input'] = data_text"
   ],
   "metadata": {
    "collapsed": false,
    "pycharm": {
     "name": "#%%\n",
     "is_executing": false
    }
   }
  },
  {
   "cell_type": "code",
   "source": [
    "#print(date.today())\n",
    "print(feedback_dict)\n",
    "#print(type(feedback_dict['date_input']))\n",
    "\n",
    "#print(data_text)"
   ],
   "metadata": {
    "collapsed": false,
    "pycharm": {
     "name": "#%% \n",
     "is_executing": false
    }
   },
   "execution_count": 79,
   "outputs": [
    {
     "name": "stdout",
     "text": [
      "{'amount_feedbacks': 1000, 'FP': 501, 'FS': 151, 'FT': 888, 'FR': 8, 'GP1': 125, 'GP2': 29, 'GP3': 308, 'GP4': 13, 'GP5': 234, 'GP6': 603, 'GP7': 0, 'counts_0_GP': 29, 'counts_1_GP': 162, 'counts_2_GP': 241, 'counts_3_GP': 276, 'counts_4_GP': 292, 'class': 'class_teste', 'date_input': '19/04/2020'}\n"
     ],
     "output_type": "stream"
    }
   ]
  },
  {
   "cell_type": "code",
   "execution_count": 63,
   "outputs": [],
   "source": [
    "import pickle\n",
    "arq = open('response_feedback.json','wb')\n",
    "pickle.dump(feedback_dict,arq)\n",
    "arq.close()\n"
   ],
   "metadata": {
    "collapsed": false,
    "pycharm": {
     "name": "#%%\n",
     "is_executing": false
    }
   }
  },
  {
   "cell_type": "code",
   "execution_count": 80,
   "outputs": [],
   "source": [
    "import json\n",
    "with open('response.json','w') as fp:\n",
    "    json.dump(feedback_dict, fp)\n",
    "\n",
    "\n"
   ],
   "metadata": {
    "collapsed": false,
    "pycharm": {
     "name": "#%%\n",
     "is_executing": false
    }
   }
  }
 ],
 "metadata": {
  "kernelspec": {
   "display_name": "Python 3",
   "language": "python",
   "name": "python3"
  },
  "language_info": {
   "codemirror_mode": {
    "name": "ipython",
    "version": 3
   },
   "file_extension": ".py",
   "mimetype": "text/x-python",
   "name": "python",
   "nbconvert_exporter": "python",
   "pygments_lexer": "ipython3",
   "version": "3.7.6"
  },
  "pycharm": {
   "stem_cell": {
    "cell_type": "raw",
    "source": [],
    "metadata": {
     "collapsed": false
    }
   }
  }
 },
 "nbformat": 4,
 "nbformat_minor": 4
}